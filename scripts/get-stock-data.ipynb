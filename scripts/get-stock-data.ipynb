{
 "cells": [
  {
   "cell_type": "code",
   "execution_count": null,
   "metadata": {
    "ExecuteTime": {
     "end_time": "2019-11-05T19:00:07.241656Z",
     "start_time": "2019-11-05T19:00:07.208Z"
    }
   },
   "outputs": [],
   "source": [
    "getStockDailyHTTP = function (ticker, timestart = NA, timeend = NA) {\n",
    "    \n",
    "    paste(\n",
    "        'https://www.worldtradingdata.com/api/v1/history?symbol=',\n",
    "        ticker,\n",
    "        '&api_token=',\n",
    "        Sys.getenv('WORLD_TRADING_DATA_API_KEY'),\n",
    "        ifelse(\n",
    "            !is.na(timestart), \n",
    "            paste('&date_from=', timestart, sep = ''),\n",
    "            ''\n",
    "        ),\n",
    "        ifelse(\n",
    "            !is.na(timeend), \n",
    "            paste('&date_end=', timeend, sep = '')\n",
    "            ,''\n",
    "        ),\n",
    "        sep = ''\n",
    "    )\n",
    "}"
   ]
  },
  {
   "cell_type": "code",
   "execution_count": null,
   "metadata": {},
   "outputs": [],
   "source": [
    "getStockData = function (ticker, timestart = NA, timeend = NA) {\n",
    "    \n",
    "    \n",
    "    ## Make API Call.\n",
    "    ticker.get = GET(\n",
    "        url = getStockDailyHTTP(\n",
    "            ticker = ticker,\n",
    "            timestart = timestart,\n",
    "            timeend = timeend\n",
    "        )\n",
    "    )\n",
    "    print(ticker.get$status_code)\n",
    "    \n",
    "    \n",
    "    \n",
    "    ## Get JSON Output to Data Frame.\n",
    "    ticker.hist = content(ticker.get, 'parsed')$history\n",
    "    ticker.data = data.frame(\n",
    "        session = names(ticker.hist),\n",
    "        matrix(\n",
    "            data = unlist(ticker.hist),\n",
    "            nrow = length(ticker.hist),\n",
    "            byrow = TRUE\n",
    "        ),\n",
    "        stringsAsFactors = FALSE\n",
    "    )\n",
    "    \n",
    "    \n",
    "    \n",
    "    ## Convert column names and data types.\n",
    "    colnames(ticker.data) = c(\n",
    "        'session',\n",
    "        names(ticker.hist[[1]])\n",
    "    )\n",
    "\n",
    "\n",
    "    ticker.data$session = as.Date(ticker.data$session)\n",
    "    ticker.data$open = as.numeric(ticker.data$open)\n",
    "    ticker.data$close = as.numeric(ticker.data$close)\n",
    "    ticker.data$high = as.numeric(ticker.data$high)\n",
    "    ticker.data$low = as.numeric(ticker.data$low)\n",
    "    ticker.data$volume = as.numeric(ticker.data$volume)\n",
    "    \n",
    "    return(ticker.data)\n",
    "    \n",
    "}"
   ]
  }
 ],
 "metadata": {
  "kernelspec": {
   "display_name": "R",
   "language": "R",
   "name": "ir"
  },
  "language_info": {
   "codemirror_mode": "r",
   "file_extension": ".r",
   "mimetype": "text/x-r-source",
   "name": "R",
   "pygments_lexer": "r",
   "version": "3.5.2"
  }
 },
 "nbformat": 4,
 "nbformat_minor": 2
}
