{
 "cells": [
  {
   "cell_type": "markdown",
   "metadata": {},
   "source": [
    "## Imports"
   ]
  },
  {
   "cell_type": "code",
   "execution_count": 1,
   "metadata": {},
   "outputs": [],
   "source": [
    "import sys\n",
    "sys.path.append('C:\\\\Users\\\\jchang\\\\AppData\\\\Local\\\\Programs\\\\Python\\\\Python37-32\\\\Lib\\\\site-packages')\n",
    "import os\n",
    "import datetime\n",
    "import requests\n",
    "import pandas as pd\n",
    "import json\n",
    "import boto3\n",
    "from boto3.dynamodb.conditions import Key, Attr"
   ]
  },
  {
   "cell_type": "markdown",
   "metadata": {},
   "source": [
    "## Get Data"
   ]
  },
  {
   "cell_type": "code",
   "execution_count": 23,
   "metadata": {},
   "outputs": [],
   "source": [
    "## make timestart and timeend conditional on a table scan of the dates that already exist for the specified ticker.\n",
    "## goal is to avoid duplicates"
   ]
  },
  {
   "cell_type": "code",
   "execution_count": 24,
   "metadata": {},
   "outputs": [],
   "source": [
    "def getStockDailyURL(ticker, timestart, timeend):\n",
    "    \n",
    "    main_request = 'https://www.worldtradingdata.com/api/v1/history?symbol=' + ticker + '&api_token=' + os.environ['WORLD_TRADING_DATA_API_KEY']\n",
    "    \n",
    "    if timestart is not None:\n",
    "        main_request = main_request + '&date_from=' + timestart\n",
    "    \n",
    "    if timeend is not None:\n",
    "        main_request = main_request + '&date_end=' + timeend\n",
    "        \n",
    "    return main_request"
   ]
  },
  {
   "cell_type": "code",
   "execution_count": 25,
   "metadata": {},
   "outputs": [],
   "source": [
    "def getStockDailyData(url):\n",
    "    \n",
    "    data_response = requests.get(url)\n",
    "    \n",
    "    return data_response"
   ]
  },
  {
   "cell_type": "code",
   "execution_count": 26,
   "metadata": {},
   "outputs": [],
   "source": [
    "def convertStockResponseToDf(stock_response, ticker):\n",
    "    \n",
    "    stock_json = json.loads(stock_response.content)\n",
    "\n",
    "    stock_df = pd.DataFrame()\n",
    "    \n",
    "    stock_df['session'] = list(stock_json['history'].keys())\n",
    "    stock_df['ticker'] = ticker\n",
    "    stock_df['open'] = ''\n",
    "    stock_df['close'] = ''\n",
    "    stock_df['high'] = ''\n",
    "    stock_df['low'] = ''\n",
    "    stock_df['volume'] = ''\n",
    "    \n",
    "    attributes = list(stock_json['history'][stock_df['session'][1]].keys())\n",
    "\n",
    "    for i in stock_df['session']:\n",
    "        for j in attributes:\n",
    "            stock_df[j].loc[stock_df['session'] == i] = stock_json['history'][i][j]\n",
    "    \n",
    "    return stock_df"
   ]
  },
  {
   "cell_type": "code",
   "execution_count": 27,
   "metadata": {},
   "outputs": [],
   "source": [
    "def getStockDF(ticker, timestart, timeend):\n",
    "    \n",
    "    df = convertStockResponseToDf(\n",
    "        stock_response = getStockDailyData(\n",
    "            getStockDailyURL(\n",
    "                ticker = ticker,\n",
    "                timestart = timestart,\n",
    "                timeend = timeend\n",
    "            )\n",
    "        ),\n",
    "        ticker = ticker\n",
    "    )\n",
    "    \n",
    "    return df"
   ]
  },
  {
   "cell_type": "markdown",
   "metadata": {},
   "source": [
    "## AWS ETL & Query "
   ]
  },
  {
   "cell_type": "code",
   "execution_count": 28,
   "metadata": {},
   "outputs": [],
   "source": [
    "def importStockDFtoAWS(stock_df):\n",
    "    \n",
    "    dynamodb = boto3.resource('dynamodb')\n",
    "    stock_table = dynamodb.Table('stockprices')\n",
    "    \n",
    "    for i in stock_df.index:\n",
    "        stock_table.put_item(\n",
    "            Item = {\n",
    "                'session': str(stock_df['session'][i]),\n",
    "                'ticker': str(stock_df['ticker'][i]),\n",
    "                'open': str(stock_df['open'][i]),\n",
    "                'close': str(stock_df['close'][i]),\n",
    "                'high': str(stock_df['high'][i]),\n",
    "                'low': str(stock_df['low'][i]),\n",
    "                'volume': str(stock_df['volume'][i]),\n",
    "            }\n",
    ")"
   ]
  },
  {
   "cell_type": "code",
   "execution_count": 29,
   "metadata": {},
   "outputs": [],
   "source": [
    "def URLtoAWS(ticker, timestart = None, timeend = None):\n",
    "    \n",
    "    stock_df = getStockDF(\n",
    "        ticker = ticker,\n",
    "        timestart = timestart,\n",
    "        timeend = timeend\n",
    "    )\n",
    "    \n",
    "    importStockDFtoAWS(stock_df)"
   ]
  },
  {
   "cell_type": "code",
   "execution_count": null,
   "metadata": {},
   "outputs": [],
   "source": [
    "def queryTickerToDF(ticker):\n",
    "    \n",
    "    dynamodb = boto3.resource('dynamodb')\n",
    "    stock_table = dynamodb.Table('stockprices')\n",
    "\n",
    "    scan_response_json = stock_table.scan(\n",
    "        FilterExpression=Attr('ticker').eq(ticker)\n",
    "    )\n",
    "\n",
    "    scan_df = pd.DataFrame.from_dict(scan_response_json['Items'], orient='columns')\n",
    "    \n",
    "    return scan_df"
   ]
  },
  {
   "cell_type": "code",
   "execution_count": null,
   "metadata": {},
   "outputs": [],
   "source": [
    "def exportCSV(stock_scan_df, ticker):\n",
    "    stock_scan_df.to_csv(\n",
    "        path_or_buf = 'C:\\\\Users\\\\jchang\\\\Desktop\\\\Projects\\\\Stocks\\\\data\\\\' + ticker + '.csv'\n",
    "    )"
   ]
  },
  {
   "cell_type": "code",
   "execution_count": 44,
   "metadata": {},
   "outputs": [],
   "source": [
    "# stock_list = ['AMZN', 'MSFT', 'BA', 'LMT', 'WMT', 'LULU', 'TSLA', 'TSM', 'JPM', 'V', 'MA']\n",
    "stock_list = ['.DJI', 'SPY', 'SPGI', 'DIS', 'CRM', 'NKE', 'AXP', 'CHEV', 'CAT', 'HD', 'COST', 'SBUX', 'FB', 'NFLX', 'UPS', 'FDX', 'BRK.B', 'BAC', 'ADBE']"
   ]
  },
  {
   "cell_type": "code",
   "execution_count": null,
   "metadata": {},
   "outputs": [
    {
     "name": "stdout",
     "output_type": "stream",
     "text": [
      ".DJI 0:42:39.482504\n",
      "SPY 0:21:58.666621\n",
      "SPGI 0:40:57.457350\n",
      "DIS 0:39:28.972816\n",
      "CRM 0:12:31.604002\n",
      "NKE 0:32:19.169526\n",
      "AXP 0:39:31.740782\n",
      "CHEV 0:06:36.955400\n",
      "CAT 0:39:29.962295\n",
      "HD 0:31:36.298820\n",
      "COST 0:31:18.793956\n",
      "SBUX 0:22:33.394848\n",
      "FB 0:05:52.915557\n",
      "NFLX 0:14:14.719590\n",
      "UPS 0:16:21.124115\n",
      "FDX 0:34:33.209901\n",
      "BRK.B 0:19:16.904026\n"
     ]
    }
   ],
   "source": [
    "for i in stock_list:\n",
    "    \n",
    "    start = datetime.datetime.today()\n",
    "    \n",
    "    URLtoAWS(ticker = i)\n",
    "    \n",
    "    print(i + ' ' + str(datetime.datetime.today() - start) + str(datetime.datetime.today()))"
   ]
  },
  {
   "cell_type": "code",
   "execution_count": 15,
   "metadata": {},
   "outputs": [],
   "source": []
  },
  {
   "cell_type": "code",
   "execution_count": null,
   "metadata": {},
   "outputs": [],
   "source": []
  },
  {
   "cell_type": "code",
   "execution_count": null,
   "metadata": {},
   "outputs": [],
   "source": []
  },
  {
   "cell_type": "code",
   "execution_count": null,
   "metadata": {},
   "outputs": [],
   "source": [
    "# start = datetime.datetime.now()\n",
    "\n",
    "# importStockDFtoAWS(aapl)\n",
    "# datetime.datetime.now() - start"
   ]
  },
  {
   "cell_type": "code",
   "execution_count": 18,
   "metadata": {},
   "outputs": [
    {
     "name": "stdout",
     "output_type": "stream",
     "text": [
      "85563\n",
      "6380067\n"
     ]
    }
   ],
   "source": [
    "dynamodb = boto3.resource('dynamodb')\n",
    "stock_table = dynamodb.Table('stockprices')\n",
    "\n",
    "print(stock_table.item_count)\n",
    "print(stock_table.table_size_bytes)"
   ]
  }
 ],
 "metadata": {
  "kernelspec": {
   "display_name": "Python 3",
   "language": "python",
   "name": "python3"
  },
  "language_info": {
   "codemirror_mode": {
    "name": "ipython",
    "version": 3
   },
   "file_extension": ".py",
   "mimetype": "text/x-python",
   "name": "python",
   "nbconvert_exporter": "python",
   "pygments_lexer": "ipython3",
   "version": "3.7.0"
  }
 },
 "nbformat": 4,
 "nbformat_minor": 2
}
